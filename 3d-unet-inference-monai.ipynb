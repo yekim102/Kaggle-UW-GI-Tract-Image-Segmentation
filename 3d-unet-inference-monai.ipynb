{
 "cells": [
  {
   "cell_type": "markdown",
   "id": "2fda78b6",
   "metadata": {
    "papermill": {
     "duration": 0.021419,
     "end_time": "2022-07-14T04:41:20.473996",
     "exception": false,
     "start_time": "2022-07-14T04:41:20.452577",
     "status": "completed"
    },
    "tags": []
   },
   "source": [
    "Most of the codes are modified from https://www.kaggle.com/code/yiheng/3d-solution-with-monai-infer, thanks YIHENG WANG."
   ]
  },
  {
   "cell_type": "markdown",
   "id": "92fb4e8e",
   "metadata": {
    "papermill": {
     "duration": 0.019688,
     "end_time": "2022-07-14T04:41:20.514378",
     "exception": false,
     "start_time": "2022-07-14T04:41:20.494690",
     "status": "completed"
    },
    "tags": []
   },
   "source": [
    "**Load libraries**"
   ]
  },
  {
   "cell_type": "code",
   "execution_count": 1,
   "id": "8c67bc31",
   "metadata": {
    "execution": {
     "iopub.execute_input": "2022-07-14T04:41:20.579473Z",
     "iopub.status.busy": "2022-07-14T04:41:20.577584Z",
     "iopub.status.idle": "2022-07-14T04:41:20.585099Z",
     "shell.execute_reply": "2022-07-14T04:41:20.586399Z",
     "shell.execute_reply.started": "2022-07-03T14:47:54.006305Z"
    },
    "papermill": {
     "duration": 0.051355,
     "end_time": "2022-07-14T04:41:20.586644",
     "exception": false,
     "start_time": "2022-07-14T04:41:20.535289",
     "status": "completed"
    },
    "tags": []
   },
   "outputs": [],
   "source": [
    "#all codes are modified from https://www.kaggle.com/code/yiheng/3d-solution-with-monai-infer\n",
    "#used dynunet pipeline instead of unet\n",
    "import sys\n",
    "\n",
    "sys.path.append('../input/monai-v081/')"
   ]
  },
  {
   "cell_type": "code",
   "execution_count": 2,
   "id": "5067694e",
   "metadata": {
    "execution": {
     "iopub.execute_input": "2022-07-14T04:41:20.679916Z",
     "iopub.status.busy": "2022-07-14T04:41:20.678311Z",
     "iopub.status.idle": "2022-07-14T04:41:28.625051Z",
     "shell.execute_reply": "2022-07-14T04:41:28.624563Z",
     "shell.execute_reply.started": "2022-07-03T14:47:54.03557Z"
    },
    "papermill": {
     "duration": 7.991087,
     "end_time": "2022-07-14T04:41:28.625190",
     "exception": false,
     "start_time": "2022-07-14T04:41:20.634103",
     "status": "completed"
    },
    "tags": []
   },
   "outputs": [],
   "source": [
    "import gc\n",
    "from glob import glob\n",
    "import os\n",
    "import numpy as np\n",
    "import pandas as pd\n",
    "import torch\n",
    "from torch import nn\n",
    "from monai.inferers import sliding_window_inference\n",
    "from monai.data import decollate_batch\n",
    "from monai.handlers.utils import from_engine\n",
    "from monai.networks.nets import DynUNet, UNet\n",
    "from torch.cuda.amp import GradScaler, autocast\n",
    "from tqdm import tqdm\n",
    "import json\n",
    "import copy"
   ]
  },
  {
   "cell_type": "code",
   "execution_count": 3,
   "id": "029a3635",
   "metadata": {
    "execution": {
     "iopub.execute_input": "2022-07-14T04:41:28.672804Z",
     "iopub.status.busy": "2022-07-14T04:41:28.671956Z",
     "iopub.status.idle": "2022-07-14T04:41:28.673623Z",
     "shell.execute_reply": "2022-07-14T04:41:28.674081Z",
     "shell.execute_reply.started": "2022-07-03T14:48:01.233373Z"
    },
    "papermill": {
     "duration": 0.027835,
     "end_time": "2022-07-14T04:41:28.674207",
     "exception": false,
     "start_time": "2022-07-14T04:41:28.646372",
     "status": "completed"
    },
    "tags": []
   },
   "outputs": [],
   "source": [
    "from monai.data import CacheDataset, DataLoader\n",
    "from monai.transforms import (\n",
    "    Compose,\n",
    "    Activations,\n",
    "    AsDiscrete,\n",
    "    Activationsd,\n",
    "    AsDiscreted,\n",
    "    KeepLargestConnectedComponentd,\n",
    "    Invertd,\n",
    "    LoadImage,\n",
    "    Transposed,\n",
    "    LoadImaged,\n",
    "    AddChanneld,\n",
    "    CastToTyped,\n",
    "    Lambdad,\n",
    "    Resized,\n",
    "    EnsureTyped,\n",
    "    SpatialPadd,\n",
    "    EnsureChannelFirstd,\n",
    ")"
   ]
  },
  {
   "cell_type": "markdown",
   "id": "ff5dfc12",
   "metadata": {
    "papermill": {
     "duration": 0.019574,
     "end_time": "2022-07-14T04:41:28.713716",
     "exception": false,
     "start_time": "2022-07-14T04:41:28.694142",
     "status": "completed"
    },
    "tags": []
   },
   "source": [
    "## Prepare meta info."
   ]
  },
  {
   "cell_type": "markdown",
   "id": "b0429617",
   "metadata": {
    "papermill": {
     "duration": 0.019564,
     "end_time": "2022-07-14T04:41:28.753882",
     "exception": false,
     "start_time": "2022-07-14T04:41:28.734318",
     "status": "completed"
    },
    "tags": []
   },
   "source": [
    "### Thanks awsaf49, this section refers to:\n",
    "https://www.kaggle.com/code/awsaf49/uwmgi-2-5d-infer-pytorch"
   ]
  },
  {
   "cell_type": "code",
   "execution_count": 4,
   "id": "439ee231",
   "metadata": {
    "execution": {
     "iopub.execute_input": "2022-07-14T04:41:28.803095Z",
     "iopub.status.busy": "2022-07-14T04:41:28.802535Z",
     "iopub.status.idle": "2022-07-14T04:41:28.806098Z",
     "shell.execute_reply": "2022-07-14T04:41:28.805582Z",
     "shell.execute_reply.started": "2022-07-03T14:48:01.242078Z"
    },
    "papermill": {
     "duration": 0.032595,
     "end_time": "2022-07-14T04:41:28.806229",
     "exception": false,
     "start_time": "2022-07-14T04:41:28.773634",
     "status": "completed"
    },
    "tags": []
   },
   "outputs": [],
   "source": [
    "def get_metadata(row):\n",
    "    data = row['id'].split('_')\n",
    "    case = int(data[0].replace('case',''))\n",
    "    day = int(data[1].replace('day',''))\n",
    "    slice_ = int(data[-1])\n",
    "    row['case'] = case\n",
    "    row['day'] = day\n",
    "    row['slice'] = slice_\n",
    "    return row\n",
    "\n",
    "def path2info(row):\n",
    "    path = row['image_path']\n",
    "    data = path.split('/')\n",
    "    slice_ = int(data[-1].split('_')[1])\n",
    "    case = int(data[-3].split('_')[0].replace('case',''))\n",
    "    day = int(data[-3].split('_')[1].replace('day',''))\n",
    "    width = int(data[-1].split('_')[2])\n",
    "    height = int(data[-1].split('_')[3])\n",
    "    row['height'] = height\n",
    "    row['width'] = width\n",
    "    row['case'] = case\n",
    "    row['day'] = day\n",
    "    row['slice'] = slice_\n",
    "    return row"
   ]
  },
  {
   "cell_type": "code",
   "execution_count": 5,
   "id": "e24b598c",
   "metadata": {
    "execution": {
     "iopub.execute_input": "2022-07-14T04:41:28.852960Z",
     "iopub.status.busy": "2022-07-14T04:41:28.852341Z",
     "iopub.status.idle": "2022-07-14T04:41:35.609554Z",
     "shell.execute_reply": "2022-07-14T04:41:35.608441Z",
     "shell.execute_reply.started": "2022-07-03T14:48:01.254012Z"
    },
    "papermill": {
     "duration": 6.783573,
     "end_time": "2022-07-14T04:41:35.609701",
     "exception": false,
     "start_time": "2022-07-14T04:41:28.826128",
     "status": "completed"
    },
    "tags": []
   },
   "outputs": [],
   "source": [
    "sub_df = pd.read_csv('../input/uw-madison-gi-tract-image-segmentation/sample_submission.csv')\n",
    "if not len(sub_df):\n",
    "    debug = True\n",
    "    sub_df = pd.read_csv('../input/uw-madison-gi-tract-image-segmentation/train.csv')[:1000*12]\n",
    "    sub_df = sub_df.drop(columns=['class','segmentation']).drop_duplicates()\n",
    "else:\n",
    "    debug = False\n",
    "    sub_df = sub_df.drop(columns=['class','predicted']).drop_duplicates()\n",
    "sub_df = sub_df.apply(lambda x: get_metadata(x),axis=1)"
   ]
  },
  {
   "cell_type": "code",
   "execution_count": 6,
   "id": "cad4c839",
   "metadata": {
    "execution": {
     "iopub.execute_input": "2022-07-14T04:41:35.655750Z",
     "iopub.status.busy": "2022-07-14T04:41:35.655027Z",
     "iopub.status.idle": "2022-07-14T04:43:08.921094Z",
     "shell.execute_reply": "2022-07-14T04:43:08.921541Z",
     "shell.execute_reply.started": "2022-07-03T14:48:07.323068Z"
    },
    "papermill": {
     "duration": 93.291203,
     "end_time": "2022-07-14T04:43:08.921694",
     "exception": false,
     "start_time": "2022-07-14T04:41:35.630491",
     "status": "completed"
    },
    "tags": []
   },
   "outputs": [
    {
     "data": {
      "text/html": [
       "<div>\n",
       "<style scoped>\n",
       "    .dataframe tbody tr th:only-of-type {\n",
       "        vertical-align: middle;\n",
       "    }\n",
       "\n",
       "    .dataframe tbody tr th {\n",
       "        vertical-align: top;\n",
       "    }\n",
       "\n",
       "    .dataframe thead th {\n",
       "        text-align: right;\n",
       "    }\n",
       "</style>\n",
       "<table border=\"1\" class=\"dataframe\">\n",
       "  <thead>\n",
       "    <tr style=\"text-align: right;\">\n",
       "      <th></th>\n",
       "      <th>image_path</th>\n",
       "      <th>height</th>\n",
       "      <th>width</th>\n",
       "      <th>case</th>\n",
       "      <th>day</th>\n",
       "      <th>slice</th>\n",
       "    </tr>\n",
       "  </thead>\n",
       "  <tbody>\n",
       "    <tr>\n",
       "      <th>0</th>\n",
       "      <td>/kaggle/input/uw-madison-gi-tract-image-segmen...</td>\n",
       "      <td>266</td>\n",
       "      <td>266</td>\n",
       "      <td>36</td>\n",
       "      <td>14</td>\n",
       "      <td>6</td>\n",
       "    </tr>\n",
       "    <tr>\n",
       "      <th>1</th>\n",
       "      <td>/kaggle/input/uw-madison-gi-tract-image-segmen...</td>\n",
       "      <td>266</td>\n",
       "      <td>266</td>\n",
       "      <td>36</td>\n",
       "      <td>14</td>\n",
       "      <td>82</td>\n",
       "    </tr>\n",
       "    <tr>\n",
       "      <th>2</th>\n",
       "      <td>/kaggle/input/uw-madison-gi-tract-image-segmen...</td>\n",
       "      <td>266</td>\n",
       "      <td>266</td>\n",
       "      <td>36</td>\n",
       "      <td>14</td>\n",
       "      <td>113</td>\n",
       "    </tr>\n",
       "    <tr>\n",
       "      <th>3</th>\n",
       "      <td>/kaggle/input/uw-madison-gi-tract-image-segmen...</td>\n",
       "      <td>266</td>\n",
       "      <td>266</td>\n",
       "      <td>36</td>\n",
       "      <td>14</td>\n",
       "      <td>76</td>\n",
       "    </tr>\n",
       "    <tr>\n",
       "      <th>4</th>\n",
       "      <td>/kaggle/input/uw-madison-gi-tract-image-segmen...</td>\n",
       "      <td>266</td>\n",
       "      <td>266</td>\n",
       "      <td>36</td>\n",
       "      <td>14</td>\n",
       "      <td>125</td>\n",
       "    </tr>\n",
       "  </tbody>\n",
       "</table>\n",
       "</div>"
      ],
      "text/plain": [
       "                                          image_path  height  width  case  \\\n",
       "0  /kaggle/input/uw-madison-gi-tract-image-segmen...     266    266    36   \n",
       "1  /kaggle/input/uw-madison-gi-tract-image-segmen...     266    266    36   \n",
       "2  /kaggle/input/uw-madison-gi-tract-image-segmen...     266    266    36   \n",
       "3  /kaggle/input/uw-madison-gi-tract-image-segmen...     266    266    36   \n",
       "4  /kaggle/input/uw-madison-gi-tract-image-segmen...     266    266    36   \n",
       "\n",
       "   day  slice  \n",
       "0   14      6  \n",
       "1   14     82  \n",
       "2   14    113  \n",
       "3   14     76  \n",
       "4   14    125  "
      ]
     },
     "execution_count": 6,
     "metadata": {},
     "output_type": "execute_result"
    }
   ],
   "source": [
    "if debug:\n",
    "    paths = glob(f'/kaggle/input/uw-madison-gi-tract-image-segmentation/train/**/*png',recursive=True)\n",
    "#     paths = sorted(paths)\n",
    "else:\n",
    "    paths = glob(f'/kaggle/input/uw-madison-gi-tract-image-segmentation/test/**/*png',recursive=True)\n",
    "#     paths = sorted(paths)\n",
    "path_df = pd.DataFrame(paths, columns=['image_path'])\n",
    "path_df = path_df.apply(lambda x: path2info(x),axis=1)\n",
    "path_df.head()"
   ]
  },
  {
   "cell_type": "markdown",
   "id": "01d56466",
   "metadata": {
    "papermill": {
     "duration": 0.020492,
     "end_time": "2022-07-14T04:43:08.963406",
     "exception": false,
     "start_time": "2022-07-14T04:43:08.942914",
     "status": "completed"
    },
    "tags": []
   },
   "source": [
    "## Produce 3d data list for MONAI DataSet"
   ]
  },
  {
   "cell_type": "code",
   "execution_count": 7,
   "id": "1bce9674",
   "metadata": {
    "execution": {
     "iopub.execute_input": "2022-07-14T04:43:09.012752Z",
     "iopub.status.busy": "2022-07-14T04:43:09.011955Z",
     "iopub.status.idle": "2022-07-14T04:43:09.040118Z",
     "shell.execute_reply": "2022-07-14T04:43:09.039631Z",
     "shell.execute_reply.started": "2022-07-03T14:49:40.164405Z"
    },
    "papermill": {
     "duration": 0.056337,
     "end_time": "2022-07-14T04:43:09.040249",
     "exception": false,
     "start_time": "2022-07-14T04:43:08.983912",
     "status": "completed"
    },
    "tags": []
   },
   "outputs": [],
   "source": [
    "test_df = sub_df.merge(path_df, on=['case','day','slice'], how='left')\n",
    "test_df[\"case_id_str\"] = test_df[\"id\"].apply(lambda x: x.split(\"_\", 2)[0])\n",
    "test_df[\"day_num_str\"] = test_df[\"id\"].apply(lambda x: x.split(\"_\", 2)[1])\n",
    "test_df[\"slice_id\"] = test_df[\"id\"].apply(lambda x: x.split(\"_\", 2)[2])"
   ]
  },
  {
   "cell_type": "code",
   "execution_count": 8,
   "id": "4d101de1",
   "metadata": {
    "execution": {
     "iopub.execute_input": "2022-07-14T04:43:09.090807Z",
     "iopub.status.busy": "2022-07-14T04:43:09.090171Z",
     "iopub.status.idle": "2022-07-14T04:43:09.590596Z",
     "shell.execute_reply": "2022-07-14T04:43:09.589890Z",
     "shell.execute_reply.started": "2022-07-03T14:49:40.197655Z"
    },
    "papermill": {
     "duration": 0.528976,
     "end_time": "2022-07-14T04:43:09.590730",
     "exception": false,
     "start_time": "2022-07-14T04:43:09.061754",
     "status": "completed"
    },
    "tags": []
   },
   "outputs": [],
   "source": [
    "test_data = []\n",
    "\n",
    "for group in test_df.groupby([\"case_id_str\", \"day_num_str\"]):\n",
    "\n",
    "    case_id_str, day_num_str = group[0]\n",
    "    group_id = case_id_str + \"_\" + day_num_str\n",
    "    group_df = group[1].sort_values(\"slice_id\", ascending=True)\n",
    "    n_slices = group_df.shape[0]\n",
    "    group_slices, group_ids = [], []\n",
    "    for idx in range(n_slices):\n",
    "        slc = group_df.iloc[idx]\n",
    "        group_slices.append(slc.image_path)\n",
    "        group_ids.append(slc.id)\n",
    "    test_data.append({\"image\": group_slices, \"id\": group_ids})"
   ]
  },
  {
   "cell_type": "markdown",
   "id": "f1400069",
   "metadata": {
    "papermill": {
     "duration": 0.020799,
     "end_time": "2022-07-14T04:43:09.632275",
     "exception": false,
     "start_time": "2022-07-14T04:43:09.611476",
     "status": "completed"
    },
    "tags": []
   },
   "source": [
    "## Prepare Transforms, Dataset, DataLoader"
   ]
  },
  {
   "cell_type": "code",
   "execution_count": 9,
   "id": "ff43d529",
   "metadata": {
    "execution": {
     "iopub.execute_input": "2022-07-14T04:43:09.740191Z",
     "iopub.status.busy": "2022-07-14T04:43:09.739328Z",
     "iopub.status.idle": "2022-07-14T04:43:09.743640Z",
     "shell.execute_reply": "2022-07-14T04:43:09.744288Z",
     "shell.execute_reply.started": "2022-07-03T14:49:40.688452Z"
    },
    "papermill": {
     "duration": 0.091376,
     "end_time": "2022-07-14T04:43:09.744462",
     "exception": false,
     "start_time": "2022-07-14T04:43:09.653086",
     "status": "completed"
    },
    "tags": []
   },
   "outputs": [],
   "source": [
    "class cfg:\n",
    "    img_size = (192, 192, 80)\n",
    "    in_channels = 1\n",
    "    out_channels = 3\n",
    "    device = torch.device(\"cuda:0\" if torch.cuda.is_available() else \"cpu\")\n",
    "    #weights = glob(\"../input/unet-ddp-models/*\")\n",
    "    weights = [\"../input/bunet-dice-sgd-cosine/bUnet_finetune_bestloss_0.072235_epoch_1124.pt\", \"../input/bunet-dice-sgd-cosine/bUnet_Dice_bestloss_0.065661_epoch_1088.pt\", \"../input/bunet-dice-sgd-cosine/bUnet_bestloss_0.064913_epoch_1095.pt\"]\n",
    "    batch_size = 1\n",
    "    sw_batch_size = 1"
   ]
  },
  {
   "cell_type": "code",
   "execution_count": 10,
   "id": "01b8c950",
   "metadata": {
    "execution": {
     "iopub.execute_input": "2022-07-14T04:43:09.789592Z",
     "iopub.status.busy": "2022-07-14T04:43:09.788629Z",
     "iopub.status.idle": "2022-07-14T04:43:09.799372Z",
     "shell.execute_reply": "2022-07-14T04:43:09.798824Z",
     "shell.execute_reply.started": "2022-07-03T14:49:40.74513Z"
    },
    "papermill": {
     "duration": 0.034041,
     "end_time": "2022-07-14T04:43:09.799498",
     "exception": false,
     "start_time": "2022-07-14T04:43:09.765457",
     "status": "completed"
    },
    "tags": []
   },
   "outputs": [],
   "source": [
    "test_transforms = Compose(\n",
    "    [\n",
    "        LoadImaged(keys=\"image\"), # d, h, w\n",
    "        AddChanneld(keys=\"image\"), # c, d, h, w\n",
    "        Transposed(keys=\"image\", indices=[0, 2, 3, 1]), # c, w, h, d wrong\n",
    "        Lambdad(keys=\"image\", func=lambda x: x / x.max()),\n",
    "        SpatialPadd(keys=\"image\", spatial_size=cfg.img_size, method=\"end\"),  # in case less than 80 slices\n",
    "        EnsureTyped(keys=\"image\", dtype=torch.float32),\n",
    "    ]\n",
    ")\n",
    "\n",
    "test_ds = CacheDataset(\n",
    "        data=test_data,\n",
    "        transform=test_transforms,\n",
    "        cache_rate=0.0,\n",
    "        num_workers=2,\n",
    "    )\n",
    "\n",
    "test_dataloader = DataLoader(\n",
    "    test_ds,\n",
    "    batch_size=cfg.batch_size,\n",
    "    num_workers=2,\n",
    "    pin_memory=True,\n",
    ")"
   ]
  },
  {
   "cell_type": "code",
   "execution_count": 11,
   "id": "701e0043",
   "metadata": {
    "execution": {
     "iopub.execute_input": "2022-07-14T04:43:09.845383Z",
     "iopub.status.busy": "2022-07-14T04:43:09.844607Z",
     "iopub.status.idle": "2022-07-14T04:43:09.846968Z",
     "shell.execute_reply": "2022-07-14T04:43:09.846536Z",
     "shell.execute_reply.started": "2022-07-03T14:49:40.763737Z"
    },
    "papermill": {
     "duration": 0.026915,
     "end_time": "2022-07-14T04:43:09.847079",
     "exception": false,
     "start_time": "2022-07-14T04:43:09.820164",
     "status": "completed"
    },
    "tags": []
   },
   "outputs": [],
   "source": [
    "# #https://github.com/Project-MONAI/tutorials/blob/main/modules/dynunet_pipeline/create_network.py\n",
    "\n",
    "# def get_kernels_strides(img_size):\n",
    "#     sizes, spacings = img_size, (1.5, 1.5, 1)   \n",
    "#     input_size=sizes\n",
    "#     strides, kernels = [], []\n",
    "\n",
    "#     while True:\n",
    "#         spacing_ratio = [sp / min(spacings) for sp in spacings]\n",
    "#         stride = [\n",
    "#             2 if ratio <= 2 and size >= 8 else 1\n",
    "#             for (ratio, size) in zip(spacing_ratio, sizes)\n",
    "#         ]\n",
    "#         kernel = [3 if ratio <= 2 else 1 for ratio in spacing_ratio]\n",
    "#         if all(s == 1 for s in stride):\n",
    "#             break\n",
    "#         for idx, (i, j) in enumerate(zip(sizes, stride)):\n",
    "#             if i % j != 0:\n",
    "#                 raise ValueError(\n",
    "#                     f\"Patch size is not supported, please try to modify the size {input_size[idx]} in the spatial dimension {idx}.\"\n",
    "#                 )\n",
    "#         sizes = [i / j for i, j in zip(sizes, stride)]\n",
    "#         spacings = [i * j for i, j in zip(spacings, stride)]\n",
    "#         kernels.append(kernel)\n",
    "#         strides.append(stride)\n",
    "\n",
    "#     strides.insert(0, len(spacings) * [1])\n",
    "#     kernels.append(len(spacings) * [3])\n",
    "   \n",
    "#     return kernels, strides"
   ]
  },
  {
   "cell_type": "markdown",
   "id": "2119bd08",
   "metadata": {
    "papermill": {
     "duration": 0.020319,
     "end_time": "2022-07-14T04:43:09.888606",
     "exception": false,
     "start_time": "2022-07-14T04:43:09.868287",
     "status": "completed"
    },
    "tags": []
   },
   "source": [
    "## Prepare Network"
   ]
  },
  {
   "cell_type": "code",
   "execution_count": 12,
   "id": "12ba616c",
   "metadata": {
    "execution": {
     "iopub.execute_input": "2022-07-14T04:43:09.939565Z",
     "iopub.status.busy": "2022-07-14T04:43:09.938890Z",
     "iopub.status.idle": "2022-07-14T04:43:14.879154Z",
     "shell.execute_reply": "2022-07-14T04:43:14.878014Z",
     "shell.execute_reply.started": "2022-07-03T14:49:40.771991Z"
    },
    "papermill": {
     "duration": 4.969097,
     "end_time": "2022-07-14T04:43:14.879334",
     "exception": false,
     "start_time": "2022-07-14T04:43:09.910237",
     "status": "completed"
    },
    "tags": []
   },
   "outputs": [],
   "source": [
    "# kernels, strides = get_kernels_strides(cfg.img_size)\n",
    "# model = DynUNet(\n",
    "#     spatial_dims=3,\n",
    "#     in_channels=1,\n",
    "#     out_channels=3,\n",
    "#     strides=strides,\n",
    "#     kernel_size=kernels,\n",
    "#     upsample_kernel_size=strides[1:],\n",
    "#     norm_name=\"instance\",\n",
    "#     deep_supervision=True,\n",
    "#     deep_supr_num=3,\n",
    "#     res_block=True,\n",
    "# ).to(cfg.device)\n",
    "\n",
    "\n",
    "model = UNet(\n",
    "    spatial_dims=3,\n",
    "    in_channels=1,\n",
    "    out_channels=3,\n",
    "    channels=(48, 96, 192, 384, 768),\n",
    "    strides=(2, 2, 2, 2),\n",
    "    kernel_size=3,\n",
    "    up_kernel_size=3,\n",
    "    num_res_units=4,\n",
    "    act=\"PRELU\",\n",
    "    norm=\"instance\",\n",
    "    dropout=0.0,\n",
    "    bias=True,\n",
    "    dimensions=None,\n",
    ").to(cfg.device)"
   ]
  },
  {
   "cell_type": "markdown",
   "id": "e83ad299",
   "metadata": {
    "papermill": {
     "duration": 0.022591,
     "end_time": "2022-07-14T04:43:14.924991",
     "exception": false,
     "start_time": "2022-07-14T04:43:14.902400",
     "status": "completed"
    },
    "tags": []
   },
   "source": [
    "## Infer"
   ]
  },
  {
   "cell_type": "code",
   "execution_count": 13,
   "id": "f407755c",
   "metadata": {
    "execution": {
     "iopub.execute_input": "2022-07-14T04:43:14.973374Z",
     "iopub.status.busy": "2022-07-14T04:43:14.972591Z",
     "iopub.status.idle": "2022-07-14T04:43:14.975034Z",
     "shell.execute_reply": "2022-07-14T04:43:14.974557Z",
     "shell.execute_reply.started": "2022-07-03T14:49:44.60228Z"
    },
    "papermill": {
     "duration": 0.029416,
     "end_time": "2022-07-14T04:43:14.975173",
     "exception": false,
     "start_time": "2022-07-14T04:43:14.945757",
     "status": "completed"
    },
    "tags": []
   },
   "outputs": [],
   "source": [
    "# ref.: https://www.kaggle.com/stainsby/fast-tested-rle\n",
    "def rle_encode(img):\n",
    "    \"\"\" TBD\n",
    "    \n",
    "    Args:\n",
    "        img (np.array): \n",
    "            - 1 indicating mask\n",
    "            - 0 indicating background\n",
    "    \n",
    "    Returns: \n",
    "        run length as string formated\n",
    "    \"\"\"\n",
    "    \n",
    "    pixels = img.flatten()\n",
    "    pixels = np.concatenate([[0], pixels, [0]])\n",
    "    runs = np.where(pixels[1:] != pixels[:-1])[0] + 1\n",
    "    runs[1::2] -= runs[::2]\n",
    "    return ' '.join(str(x) for x in runs)"
   ]
  },
  {
   "cell_type": "code",
   "execution_count": 14,
   "id": "0007912f",
   "metadata": {
    "execution": {
     "iopub.execute_input": "2022-07-14T04:43:15.025777Z",
     "iopub.status.busy": "2022-07-14T04:43:15.025029Z",
     "iopub.status.idle": "2022-07-14T04:43:15.027090Z",
     "shell.execute_reply": "2022-07-14T04:43:15.027564Z",
     "shell.execute_reply.started": "2022-07-03T14:49:44.608926Z"
    },
    "papermill": {
     "duration": 0.031462,
     "end_time": "2022-07-14T04:43:15.027705",
     "exception": false,
     "start_time": "2022-07-14T04:43:14.996243",
     "status": "completed"
    },
    "tags": []
   },
   "outputs": [],
   "source": [
    "def choose_longest(label_array, length_threshold = 13):\n",
    "\n",
    "    candidates = {}\n",
    "    slice_id = -1\n",
    "    tolerance = 0 #variable for disconnection tolerance\n",
    "    toler_length = 3 #toler_length 2 means tolerate disconnection of slice length (toler_length-1). \n",
    "\n",
    "    for idx, slice in enumerate(label_array):\n",
    "\n",
    "        if tolerance == 0:\n",
    "            if np.any(slice):\n",
    "                if slice_id in candidates:\n",
    "                    candidates[slice_id] += 1\n",
    "                    tolerance = toler_length \n",
    "                else:\n",
    "                    slice_id = idx\n",
    "                    candidates[slice_id] = 1\n",
    "                    tolerance = toler_length\n",
    "            else:\n",
    "                slice_id = -1\n",
    "        \n",
    "        if tolerance > 0:\n",
    "            if np.any(slice):\n",
    "                candidates[slice_id] += 1\n",
    "                tolerance = toler_length \n",
    "            else:\n",
    "                candidates[slice_id] += 1\n",
    "                tolerance -= 1\n",
    "            \n",
    "    false_alarms = {idx: length for idx, length in candidates.items() if length < length_threshold}\n",
    "    #print(f\"candidates: {candidates}, false alarms: {false_alarms}\")\n",
    "   \n",
    "    for indices in false_alarms:\n",
    "        zero_array = np.zeros_like(label_array[indices:indices + false_alarms[indices]])\n",
    "        label_array[indices:indices + false_alarms[indices]] = zero_array\n",
    "\n",
    "    return label_array\n"
   ]
  },
  {
   "cell_type": "code",
   "execution_count": 15,
   "id": "b22cb669",
   "metadata": {
    "execution": {
     "iopub.execute_input": "2022-07-14T04:43:15.072474Z",
     "iopub.status.busy": "2022-07-14T04:43:15.071677Z",
     "iopub.status.idle": "2022-07-14T05:03:58.175504Z",
     "shell.execute_reply": "2022-07-14T05:03:58.174195Z",
     "shell.execute_reply.started": "2022-07-03T14:49:44.629447Z"
    },
    "papermill": {
     "duration": 1243.126963,
     "end_time": "2022-07-14T05:03:58.175668",
     "exception": false,
     "start_time": "2022-07-14T04:43:15.048705",
     "status": "completed"
    },
    "tags": []
   },
   "outputs": [
    {
     "name": "stderr",
     "output_type": "stream",
     "text": [
      "100%|██████████| 28/28 [20:43<00:00, 44.39s/it]\n"
     ]
    }
   ],
   "source": [
    "outputs = []\n",
    "\n",
    "post_pred = Compose([\n",
    "    Activations(sigmoid=True),\n",
    "    AsDiscrete(threshold=0.5),\n",
    "])\n",
    "\n",
    "model.eval()\n",
    "torch.set_grad_enabled(False)\n",
    "progress_bar = tqdm(range(len(test_dataloader)))\n",
    "val_it = iter(test_dataloader)\n",
    "for itr in progress_bar:\n",
    "    batch = next(val_it)\n",
    "    test_inputs = batch[\"image\"].to(cfg.device)\n",
    "    pred_all = []\n",
    "    for weights in cfg.weights:\n",
    "        #model.load_state_dict(torch.load(weights)[\"model\"])\n",
    "        model.load_state_dict(torch.load(weights))\n",
    "        pred = sliding_window_inference(test_inputs, cfg.img_size, cfg.sw_batch_size, model, overlap=0.6)\n",
    "        pred_all.append(pred)\n",
    "        # do 4 tta\n",
    "        for dims in [[2], [3], [2, 3]]:\n",
    "            flip_pred = sliding_window_inference(torch.flip(test_inputs, dims=dims), cfg.img_size, cfg.sw_batch_size, model, overlap=0.6)\n",
    "            flip_pred = torch.flip(flip_pred, dims=dims)\n",
    "            pred_all.append(flip_pred)\n",
    "\n",
    "    \n",
    "    pred_all = torch.mean(torch.stack(pred_all), dim=0)[0]\n",
    "    pred_all = post_pred(pred_all)\n",
    "    # c, w, h, d to d, c, h, w\n",
    "    \n",
    "    pred_all = torch.permute(pred_all, [3, 0, 2, 1]).cpu().numpy().astype(np.uint8)\n",
    "\n",
    "    #post-process\n",
    "    a = np.transpose(pred_all,(1,0,3,2)) #to c d w h \n",
    "    for idx, i in enumerate(a):\n",
    "        a[idx] = choose_longest(i)\n",
    "    pred_all = np.transpose(a,(1,0,3,2)) #back to d c h w\n",
    "\n",
    "    id_outputs = from_engine([\"id\"])(batch)[0]\n",
    "\n",
    "    \n",
    "    for test_output, id_output in zip(pred_all, id_outputs):\n",
    "        id_name = id_output[0]\n",
    "        lb, sb, st = test_output\n",
    "        outputs.append([id_name, \"large_bowel\", rle_encode(lb)])\n",
    "        outputs.append([id_name, \"small_bowel\", rle_encode(sb)])\n",
    "        outputs.append([id_name, \"stomach\", rle_encode(st)])\n"
   ]
  },
  {
   "cell_type": "code",
   "execution_count": 16,
   "id": "0c55e5c0",
   "metadata": {
    "execution": {
     "iopub.execute_input": "2022-07-14T05:03:58.511838Z",
     "iopub.status.busy": "2022-07-14T05:03:58.238561Z",
     "iopub.status.idle": "2022-07-14T05:03:58.526761Z",
     "shell.execute_reply": "2022-07-14T05:03:58.525850Z",
     "shell.execute_reply.started": "2022-06-30T04:49:03.966893Z"
    },
    "papermill": {
     "duration": 0.321393,
     "end_time": "2022-07-14T05:03:58.526944",
     "exception": false,
     "start_time": "2022-07-14T05:03:58.205551",
     "status": "completed"
    },
    "tags": []
   },
   "outputs": [],
   "source": [
    "submit = pd.DataFrame(data=np.array(outputs), columns=[\"id\", \"class\", \"predicted\"])"
   ]
  },
  {
   "cell_type": "code",
   "execution_count": 17,
   "id": "4b704ad4",
   "metadata": {
    "execution": {
     "iopub.execute_input": "2022-07-14T05:03:58.603782Z",
     "iopub.status.busy": "2022-07-14T05:03:58.602989Z",
     "iopub.status.idle": "2022-07-14T05:03:58.710961Z",
     "shell.execute_reply": "2022-07-14T05:03:58.710485Z",
     "shell.execute_reply.started": "2022-06-30T04:49:04.261575Z"
    },
    "papermill": {
     "duration": 0.14486,
     "end_time": "2022-07-14T05:03:58.711106",
     "exception": false,
     "start_time": "2022-07-14T05:03:58.566246",
     "status": "completed"
    },
    "tags": []
   },
   "outputs": [],
   "source": [
    "# Fix sub error, refers to: https://www.kaggle.com/competitions/uw-madison-gi-tract-image-segmentation/discussion/320541\n",
    "if not debug:\n",
    "    sub_df = pd.read_csv('../input/uw-madison-gi-tract-image-segmentation/sample_submission.csv')\n",
    "    del sub_df['predicted']\n",
    "    sub_df = sub_df.merge(submit, on=['id','class'])\n",
    "    sub_df.to_csv('submission.csv',index=False)\n",
    "else:\n",
    "    submit.to_csv('submission.csv', index=False)"
   ]
  },
  {
   "cell_type": "code",
   "execution_count": null,
   "id": "ae7f7ff5",
   "metadata": {
    "papermill": {
     "duration": 0.030244,
     "end_time": "2022-07-14T05:03:58.771433",
     "exception": false,
     "start_time": "2022-07-14T05:03:58.741189",
     "status": "completed"
    },
    "tags": []
   },
   "outputs": [],
   "source": []
  }
 ],
 "metadata": {
  "kernelspec": {
   "display_name": "Python 3",
   "language": "python",
   "name": "python3"
  },
  "language_info": {
   "codemirror_mode": {
    "name": "ipython",
    "version": 3
   },
   "file_extension": ".py",
   "mimetype": "text/x-python",
   "name": "python",
   "nbconvert_exporter": "python",
   "pygments_lexer": "ipython3",
   "version": "3.7.12"
  },
  "papermill": {
   "default_parameters": {},
   "duration": 1370.072065,
   "end_time": "2022-07-14T05:04:01.593108",
   "environment_variables": {},
   "exception": null,
   "input_path": "__notebook__.ipynb",
   "output_path": "__notebook__.ipynb",
   "parameters": {},
   "start_time": "2022-07-14T04:41:11.521043",
   "version": "2.3.3"
  }
 },
 "nbformat": 4,
 "nbformat_minor": 5
}
